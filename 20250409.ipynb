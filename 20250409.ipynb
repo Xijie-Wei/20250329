{
 "cells": [
  {
   "cell_type": "markdown",
   "id": "a50ae95f",
   "metadata": {},
   "source": [
    "# Distinguish quanities can be used to tell goodness of the reconstruction\n",
    "\n",
    "This notebook is about distinguish quantitis from $N_{hit}$, $pt$, $\\eta$, $\\Delta\\eta$, $\\Delta\\phi$, $\\theta$, $qop$, using Permutation feature importance method"
   ]
  },
  {
   "cell_type": "code",
   "execution_count": 180,
   "id": "373a83f7",
   "metadata": {},
   "outputs": [],
   "source": [
    "# Load lib\n",
    "from sklearn.inspection import permutation_importance\n",
    "import torch\n",
    "import torch.nn as nn\n",
    "import numpy as np\n",
    "import matplotlib.pyplot as plt"
   ]
  },
  {
   "cell_type": "code",
   "execution_count": 181,
   "id": "bc397af4",
   "metadata": {},
   "outputs": [],
   "source": [
    "# Load test set\n",
    "folder  = \"75_dataset_phi\"\n",
    "\n",
    "test_input = torch.load(f\"data/{folder}/data_test_input.csv\",weights_only=False)\n",
    "test_label = torch.load(f\"data/{folder}/data_test_label.csv\",weights_only=False)\n",
    "\n",
    "index = 3000 # This index is define to distinguish good recons and bad recons in the test set, i.e.[0,index] are good recons and the rest are bad recons"
   ]
  },
  {
   "cell_type": "code",
   "execution_count": 182,
   "id": "05d1990c",
   "metadata": {},
   "outputs": [
    {
     "data": {
      "text/plain": [
       "net(\n",
       "  (classi): Sequential(\n",
       "    (0): Linear(in_features=8, out_features=512, bias=True)\n",
       "    (1): Linear(in_features=512, out_features=512, bias=True)\n",
       "    (2): Linear(in_features=512, out_features=512, bias=True)\n",
       "    (3): Linear(in_features=512, out_features=512, bias=True)\n",
       "    (4): Linear(in_features=512, out_features=256, bias=True)\n",
       "    (5): Linear(in_features=256, out_features=128, bias=True)\n",
       "    (6): Linear(in_features=128, out_features=64, bias=True)\n",
       "    (7): Linear(in_features=64, out_features=32, bias=True)\n",
       "    (8): Linear(in_features=32, out_features=2, bias=True)\n",
       "    (9): Sigmoid()\n",
       "  )\n",
       ")"
      ]
     },
     "execution_count": 182,
     "metadata": {},
     "output_type": "execute_result"
    }
   ],
   "source": [
    "# Load model\n",
    "class net(nn.Module):\n",
    "\n",
    "    def __init__(self):\n",
    "        super().__init__()\n",
    "\n",
    "        self.classi = nn.Sequential(\n",
    "            nn.Linear(8,512),\n",
    "            nn.Linear(512,512),\n",
    "            nn.Linear(512,512),\n",
    "            nn.Linear(512,512),\n",
    "            nn.Linear(512,256),\n",
    "            nn.Linear(256,128),\n",
    "            nn.Linear(128,64),\n",
    "            nn.Linear(64,32),\n",
    "            nn.Linear(32,2),nn.Sigmoid()\n",
    "        )\n",
    "    def forward(self,inputs):\n",
    "        output = self.classi(inputs)\n",
    "\n",
    "        return output\n",
    "\n",
    "PATH = './cifar_net.pth'\n",
    "model = net()\n",
    "model.load_state_dict(torch.load(PATH, weights_only=True))\n",
    "model.eval()\n",
    "model.to('cuda')"
   ]
  },
  {
   "cell_type": "markdown",
   "id": "2d80baed",
   "metadata": {},
   "source": [
    "In order in avoid bias caused by inbalence between good recons and bad recons in the test set, select same number of good recons in test set and conbine this with bad recons, for simplicity, just choose first n number of the good recons"
   ]
  },
  {
   "cell_type": "code",
   "execution_count": 183,
   "id": "5727803e",
   "metadata": {},
   "outputs": [
    {
     "name": "stdout",
     "output_type": "stream",
     "text": [
      "The test set has the size of 3500, with 3000 good recons and 500 recons\n",
      "torch.Size([500, 8])\n",
      "torch.Size([1000, 8])\n",
      "Type: <class 'torch.Tensor'> Length: torch.Size([1000, 8])\n",
      "Type: <class 'torch.Tensor'> Length: torch.Size([1000, 2])\n"
     ]
    },
    {
     "name": "stderr",
     "output_type": "stream",
     "text": [
      "C:\\Users\\JEFF-wei\\AppData\\Local\\Temp\\ipykernel_10592\\1362833706.py:6: UserWarning: To copy construct from a tensor, it is recommended to use sourceTensor.clone().detach() or sourceTensor.clone().detach().requires_grad_(True), rather than torch.tensor(sourceTensor).\n",
      "  new_test_input = torch.cat((new_test_input,torch.tensor(test_input[i][:][None])),dim=0)\n",
      "C:\\Users\\JEFF-wei\\AppData\\Local\\Temp\\ipykernel_10592\\1362833706.py:9: UserWarning: To copy construct from a tensor, it is recommended to use sourceTensor.clone().detach() or sourceTensor.clone().detach().requires_grad_(True), rather than torch.tensor(sourceTensor).\n",
      "  new_test_input = torch.cat((new_test_input,torch.tensor(test_input[i][:][None])),dim=0)\n"
     ]
    }
   ],
   "source": [
    "len_bad = 500\n",
    "print(f\"The test set has the size of {test_label.shape[0]}, with {index} good recons and {len_bad} recons\")\n",
    "\n",
    "new_test_input = torch.tensor([])\n",
    "for i in range(len_bad):\n",
    "    new_test_input = torch.cat((new_test_input,torch.tensor(test_input[i][:][None])),dim=0)\n",
    "print(new_test_input.shape)\n",
    "for i in range(index,test_label.shape[0]):\n",
    "    new_test_input = torch.cat((new_test_input,torch.tensor(test_input[i][:][None])),dim=0)\n",
    "print(new_test_input.shape)\n",
    "\n",
    "new_test_label = torch.cat((torch.tensor([1,0]).repeat(len_bad,1),torch.tensor([0,1]).repeat(len_bad,1)),dim = 0)\n",
    "\n",
    "\n",
    "print(f\"Type: {type(new_test_input)} Length: {new_test_input.shape}\")\n",
    "print(f\"Type: {type(new_test_label)} Length: {new_test_label.shape}\")"
   ]
  },
  {
   "cell_type": "code",
   "execution_count": 184,
   "id": "9ca8017e",
   "metadata": {},
   "outputs": [
    {
     "name": "stdout",
     "output_type": "stream",
     "text": [
      "Accuracy of good recons is 0.714\n",
      "Accuracy of poor recons is 0.774\n",
      "The accuracy of the network for well reconstructed tracks is: 71.400%\n",
      "The accuracy of the network for poor reconstructed tracks is: 77.400%\n",
      "The accuracy of the network is: 74.400%\n"
     ]
    }
   ],
   "source": [
    "# Calculate score \n",
    "\n",
    "accuracy_good = 0\n",
    "accuracy_bad = 0\n",
    "\n",
    "for i in range(len_bad):\n",
    "    inputs = new_test_input[i].to(\"cuda\")\n",
    "    output = model(inputs)\n",
    "    if output[0]>output[1]:\n",
    "        accuracy_good += 1\n",
    "for i in range(len_bad,new_test_input.shape[0]):\n",
    "    inputs = new_test_input[i].to(\"cuda\")\n",
    "    output = model(inputs)\n",
    "    if output[0]<output[1]:\n",
    "        accuracy_bad += 1\n",
    "\n",
    "accuracy_good = accuracy_good / (len_bad)\n",
    "accuracy_bad = accuracy_bad / (len_bad)\n",
    "print(f\"Accuracy of good recons is {accuracy_good}\")\n",
    "print(f\"Accuracy of poor recons is {accuracy_bad}\")\n",
    "\n",
    "from training_function import test_score\n",
    "good_ref,bad_ref = test_score(model,new_test_input,index=500)\n",
    "\n"
   ]
  },
  {
   "cell_type": "code",
   "execution_count": 185,
   "id": "a1a54d81",
   "metadata": {},
   "outputs": [],
   "source": [
    "def pfi(model,input_data,index,q_index):\n",
    "    \"\"\"\n",
    "    This function about using Permutation feature importance method to tell importance of a quanity with index q_index \n",
    "\n",
    "    Input:\n",
    "        model: classification model\n",
    "        input: input segood_reft\n",
    "        index: [0,index] are good recons and [index,input.shape[0]] are bad recons\n",
    "        q_index: index of quanties shuffed in input set\n",
    "\n",
    "    Output: \n",
    "        Good: Accuracy of good recon\n",
    "        Bad: Accuracy of bad recon\n",
    "    \"\"\"\n",
    "    from training_function import test_score\n",
    "    test_data = input_data.clone()\n",
    "    #print(input.shape[0])\n",
    "    temp = test_data[:,q_index]\n",
    "    #print(f\"Initially temp: {temp[0:5]}\")\n",
    "    #print(f\"Initially: {test_data[0:5,q_index]}\")\n",
    "    test_data[:,q_index] = torch.rand(input_data.shape[0])\n",
    "    #print(f\"Now: {test_data[0:5,q_index]}\")\n",
    "    acc_g,acc_b = test_score(model,test_data,index=index,print_result = False)\n",
    "    test_data[:,q_index] = temp\n",
    "    #print(f\"After: {test_data[0:5,q_index]}\")\n",
    "    return acc_g,acc_b\n",
    "        "
   ]
  },
  {
   "cell_type": "code",
   "execution_count": 186,
   "id": "27bedb88",
   "metadata": {},
   "outputs": [],
   "source": [
    "def test_a_quality(q_index,num_repeat = 50):\n",
    "    \"\"\"\n",
    "    This function is used to tell importance of a quanity of a model using feature importance method with pfi function\n",
    "\n",
    "    Input:\n",
    "        q_index: index of quanties shuffed in input set\n",
    "        num_repeat: repeating time of calculating difference, defult: 50\n",
    "    \n",
    "    Output:\n",
    "        diff_g : difference of accuracy of good recons comparing with referencing value\n",
    "        diff_b : difference of accuracy of bad recons comparing with referencing value\n",
    "    \"\"\"\n",
    "    diff_g = np.array([])\n",
    "    diff_b = np.array([])\n",
    "    for i in range(num_repeat):\n",
    "        acc_good,acc_bad = pfi(model,new_test_input,500,q_index)\n",
    "        diff_g = np.append(diff_g,good_ref - acc_good)\n",
    "        diff_b = np.append(diff_b,bad_ref - acc_bad)\n",
    "    \n",
    "    #print(diff_g)\n",
    "    #print(diff_b)\n",
    "    return diff_g,diff_b\n"
   ]
  },
  {
   "cell_type": "code",
   "execution_count": 187,
   "id": "5eac7316",
   "metadata": {},
   "outputs": [
    {
     "name": "stdout",
     "output_type": "stream",
     "text": [
      "Testing n_hit\n",
      "Testing pt\n",
      "Testing eta\n",
      "Testing deta\n",
      "Testing phi\n",
      "Testing dphi\n",
      "Testing theta\n",
      "Testing qop\n"
     ]
    },
    {
     "data": {
      "text/plain": [
       "Text(0.5, 0, 'Decrease in Accuracy %')"
      ]
     },
     "execution_count": 187,
     "metadata": {},
     "output_type": "execute_result"
    },
    {
     "data": {
      "image/png": "[encoded data removed]",
      "text/plain": [
       "<Figure size 640x480 with 1 Axes>"
      ]
     },
     "metadata": {},
     "output_type": "display_data"
    }
   ],
   "source": [
    "quantity = [\"n_hit\",\"pt\",\"eta\",\"deta\",\"phi\",\"dphi\",\"theta\",\"qop\"]\n",
    "diff_g_all= []\n",
    "diff_b_all= []\n",
    "\n",
    "for index in range (8):\n",
    "    print(f\"Testing {quantity[index]}\")\n",
    "    dif_g,dif_b = test_a_quality(index,100)\n",
    "    diff_g_all.append(dif_g)\n",
    "    diff_b_all.append(dif_b)\n",
    "\n",
    "\n",
    "#print(diff_g_all)\n",
    "#print(diff_b_all)\n",
    "bx_1 = plt.boxplot(diff_g_all,tick_labels=quantity,vert = False,label = \"Well Recons\")\n",
    "bx_2 = plt.boxplot(diff_b_all,tick_labels=quantity,vert = False,label = \"Bad Recons\")\n",
    "\n",
    "for patch in bx_1['boxes']:\n",
    "    patch.set_color('red')\n",
    "for patch in bx_2['boxes']:\n",
    "    patch.set_color('blue')\n",
    "for patch in bx_1['medians']:\n",
    "    patch.set_color('red')\n",
    "for patch in bx_2['medians']:\n",
    "    patch.set_color('blue')\n",
    "\n",
    "lower, upper = plt.ylim()\n",
    "plt.vlines(0, ymin=lower, ymax=upper, color='black', linestyles='--')   \n",
    "\n",
    "plt.legend()\n",
    "plt.xlabel(\"Decrease in Accuracy %\")"
   ]
  }
 ],
 "metadata": {
  "kernelspec": {
   "display_name": "Python 3",
   "language": "python",
   "name": "python3"
  },
  "language_info": {
   "codemirror_mode": {
    "name": "ipython",
    "version": 3
   },
   "file_extension": ".py",
   "mimetype": "text/x-python",
   "name": "python",
   "nbconvert_exporter": "python",
   "pygments_lexer": "ipython3",
   "version": "3.11.9"
  }
 },
 "nbformat": 4,
 "nbformat_minor": 5
}
